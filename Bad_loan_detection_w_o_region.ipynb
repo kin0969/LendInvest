{
  "nbformat": 4,
  "nbformat_minor": 0,
  "metadata": {
    "colab": {
      "name": "Bad loan detection w/o region.ipynb",
      "provenance": [],
      "collapsed_sections": [],
      "include_colab_link": true
    },
    "kernelspec": {
      "name": "python3",
      "display_name": "Python 3"
    }
  },
  "cells": [
    {
      "cell_type": "markdown",
      "metadata": {
        "id": "view-in-github",
        "colab_type": "text"
      },
      "source": [
        "<a href=\"https://colab.research.google.com/github/kin0969/LendInvest/blob/master/Bad_loan_detection_w_o_region.ipynb\" target=\"_parent\"><img src=\"https://colab.research.google.com/assets/colab-badge.svg\" alt=\"Open In Colab\"/></a>"
      ]
    },
    {
      "cell_type": "code",
      "metadata": {
        "id": "o4XU0itNqZ6r",
        "colab_type": "code",
        "outputId": "75e7f307-6066-40c7-c61c-6ccb36a1eff9",
        "colab": {
          "base_uri": "https://localhost:8080/",
          "height": 277
        }
      },
      "source": [
        "import numpy as np # linear algebra\n",
        "import pandas as pd # data processing, CSV file I/O (e.g. pd.read_csv)\n",
        "\n",
        "!pip install category_encoders\n",
        "import category_encoders as ce\n",
        "import csv\n",
        "\n"
      ],
      "execution_count": 0,
      "outputs": [
        {
          "output_type": "stream",
          "text": [
            "Collecting category_encoders\n",
            "\u001b[?25l  Downloading https://files.pythonhosted.org/packages/a0/52/c54191ad3782de633ea3d6ee3bb2837bda0cf3bc97644bb6375cf14150a0/category_encoders-2.1.0-py2.py3-none-any.whl (100kB)\n",
            "\r\u001b[K     |███▎                            | 10kB 16.6MB/s eta 0:00:01\r\u001b[K     |██████▌                         | 20kB 1.4MB/s eta 0:00:01\r\u001b[K     |█████████▉                      | 30kB 2.1MB/s eta 0:00:01\r\u001b[K     |█████████████                   | 40kB 1.5MB/s eta 0:00:01\r\u001b[K     |████████████████▍               | 51kB 1.7MB/s eta 0:00:01\r\u001b[K     |███████████████████▋            | 61kB 2.0MB/s eta 0:00:01\r\u001b[K     |██████████████████████▉         | 71kB 2.2MB/s eta 0:00:01\r\u001b[K     |██████████████████████████▏     | 81kB 2.4MB/s eta 0:00:01\r\u001b[K     |█████████████████████████████▍  | 92kB 2.6MB/s eta 0:00:01\r\u001b[K     |████████████████████████████████| 102kB 2.1MB/s \n",
            "\u001b[?25hRequirement already satisfied: numpy>=1.11.3 in /usr/local/lib/python3.6/dist-packages (from category_encoders) (1.17.4)\n",
            "Requirement already satisfied: statsmodels>=0.6.1 in /usr/local/lib/python3.6/dist-packages (from category_encoders) (0.10.2)\n",
            "Requirement already satisfied: scikit-learn>=0.20.0 in /usr/local/lib/python3.6/dist-packages (from category_encoders) (0.21.3)\n",
            "Requirement already satisfied: patsy>=0.4.1 in /usr/local/lib/python3.6/dist-packages (from category_encoders) (0.5.1)\n",
            "Requirement already satisfied: scipy>=0.19.0 in /usr/local/lib/python3.6/dist-packages (from category_encoders) (1.3.3)\n",
            "Requirement already satisfied: pandas>=0.21.1 in /usr/local/lib/python3.6/dist-packages (from category_encoders) (0.25.3)\n",
            "Requirement already satisfied: joblib>=0.11 in /usr/local/lib/python3.6/dist-packages (from scikit-learn>=0.20.0->category_encoders) (0.14.1)\n",
            "Requirement already satisfied: six in /usr/local/lib/python3.6/dist-packages (from patsy>=0.4.1->category_encoders) (1.12.0)\n",
            "Requirement already satisfied: pytz>=2017.2 in /usr/local/lib/python3.6/dist-packages (from pandas>=0.21.1->category_encoders) (2018.9)\n",
            "Requirement already satisfied: python-dateutil>=2.6.1 in /usr/local/lib/python3.6/dist-packages (from pandas>=0.21.1->category_encoders) (2.6.1)\n",
            "Installing collected packages: category-encoders\n",
            "Successfully installed category-encoders-2.1.0\n"
          ],
          "name": "stdout"
        }
      ]
    },
    {
      "cell_type": "code",
      "metadata": {
        "id": "kcHawlFPJKbb",
        "colab_type": "code",
        "outputId": "5f8dbacc-b801-49e2-ddfd-42c33b265db9",
        "colab": {
          "base_uri": "https://localhost:8080/",
          "height": 124
        }
      },
      "source": [
        "# Mount Google Drive for read and write\n",
        "from google.colab import drive\n",
        "drive.mount('/content/gdrive')\n",
        "input_x_y_path=\"/content/gdrive/My Drive/Colab Notebooks/LendInvest/LogisticRegression/Raw Data/Input X and Y/\"+\"Train_X_Y_20200108_115344_only_cata_Enforcement.csv\"\n",
        "predict_x_test_path=\"/content/gdrive/My Drive/Colab Notebooks/LendInvest/LogisticRegression/Raw Data/Predict_X_test/\"+\"Predict_X_test_2019_09_24.csv\"\n",
        "predict_result_X_test_path=\"/content/gdrive/My Drive/Colab Notebooks/LendInvest/LogisticRegression/Result/\"+\"predict_result_X_test.csv\"\n",
        "general_result_path=\"/content/gdrive/My Drive/Colab Notebooks/LendInvest/LogisticRegression/Result/\"\n"
      ],
      "execution_count": 0,
      "outputs": [
        {
          "output_type": "stream",
          "text": [
            "Go to this URL in a browser: https://accounts.google.com/o/oauth2/auth?client_id=947318989803-6bn6qk8qdgf4n4g3pfee6491hc0brc4i.apps.googleusercontent.com&redirect_uri=urn%3aietf%3awg%3aoauth%3a2.0%3aoob&response_type=code&scope=email%20https%3a%2f%2fwww.googleapis.com%2fauth%2fdocs.test%20https%3a%2f%2fwww.googleapis.com%2fauth%2fdrive%20https%3a%2f%2fwww.googleapis.com%2fauth%2fdrive.photos.readonly%20https%3a%2f%2fwww.googleapis.com%2fauth%2fpeopleapi.readonly\n",
            "\n",
            "Enter your authorization code:\n",
            "··········\n",
            "Mounted at /content/gdrive\n"
          ],
          "name": "stdout"
        }
      ]
    },
    {
      "cell_type": "code",
      "metadata": {
        "id": "Qidf_oM1sk__",
        "colab_type": "code",
        "colab": {}
      },
      "source": [
        "def _normalize_column_normal(X, train=True, specified_column = None, X_mean=None, X_std=None):\n",
        "    # The output of the function will make the specified column number to \n",
        "    # become a Normal distribution\n",
        "    # When processing testing data, we need to normalize by the value \n",
        "    # we used for processing training, so we must save the mean value and \n",
        "    # the variance of the training data\n",
        "    if train:\n",
        "        if specified_column == None:\n",
        "            specified_column = np.arange(X.shape[1])\n",
        "        length = len(specified_column)    \n",
        "        X_mean = np.reshape(np.mean(X[:, specified_column],0), (1, length))\n",
        "        X_std  = np.reshape(np.std(X[:, specified_column], 0), (1, length))\n",
        "\n",
        "    X[:,specified_column] = np.divide(np.subtract(X[:,specified_column],X_mean), X_std)\n",
        "    return X, X_mean, X_std"
      ],
      "execution_count": 0,
      "outputs": []
    },
    {
      "cell_type": "code",
      "metadata": {
        "id": "x757jElzsmT_",
        "colab_type": "code",
        "colab": {}
      },
      "source": [
        "def _shuffle(X, Y):\n",
        "    randomize = np.arange(len(X))\n",
        "    np.random.shuffle(randomize)\n",
        "    return X[randomize], Y[randomize]\n",
        "    \n",
        "def train_dev_split(X, y, dev_size=0.25):    \n",
        "    train_len = int(round(len(X)*(1-dev_size)))\n",
        "    return X[0:train_len,], y[0:train_len,], X[train_len:,], y[train_len:,]"
      ],
      "execution_count": 0,
      "outputs": []
    },
    {
      "cell_type": "code",
      "metadata": {
        "id": "rGtY9CHsDUrK",
        "colab_type": "code",
        "colab": {}
      },
      "source": [
        "def _sigmoid(z):\n",
        "    # sigmoid function can be used to output probability\n",
        "    return np.clip(1 / (1.0 + np.exp(-z)), 1e-6, 1-1e-6)\n",
        "\n",
        "def _relu(z):\n",
        "    # relu function can be used to output probability\n",
        "    # return np.where(z < 0,  0, z)\n",
        "    # Rewrite the Relu for no value less than 0 and greater than 1. Avoid math log error\n",
        "     a=z\n",
        "     a=np.where(z <= 0,  0.000001, a)\n",
        "     a=np.where(a >= 1,  0.999999, a)\n",
        "     return a\n",
        "\n",
        "\n",
        "\n",
        "def _Leaky_relu(z):\n",
        "    # Leaky relu function can be used to output probability\n",
        "    return np.where(z < 0, z*0.2, z)\n",
        "\n",
        "def get_pred_func_raw(X,w,b):        \n",
        "#     return _sigmoid(np.add( X.dot(w) ,b))\n",
        "    # return _Leaky_relu(np.add( X.dot(w) ,b))\n",
        "    return _relu(np.add( X.dot(w) ,b))\n",
        "\n",
        "\n",
        "\n",
        "def _gradient_regularization(X,Y_label,w,b,lambda_v):\n",
        "    pred_func_raw = get_pred_func_raw(X, w, b)\n",
        "    pred_error=Y_label-pred_func_raw\n",
        "    w_grad=-(np.transpose(X).dot(pred_error))/pred_error.size+lambda_v*w\n",
        "    b_grad=-np.mean(pred_error)    \n",
        "    return w_grad, b_grad"
      ],
      "execution_count": 0,
      "outputs": []
    },
    {
      "cell_type": "code",
      "metadata": {
        "id": "CQYQbb4ODf6y",
        "colab_type": "code",
        "colab": {}
      },
      "source": [
        "def infer(X, w, b):\n",
        "    # use round to infer the result\n",
        "    return np.round(get_pred_func_raw(X, w, b))\n",
        "\n",
        "def _cross_entropy(pred_func_raw, Y_label):\n",
        "    # compute the cross entropy\n",
        "    cross_entropy = -np.dot(Y_label, np.log(pred_func_raw))-np.dot((1-Y_label), np.log(1-pred_func_raw))\n",
        "    return cross_entropy\n",
        "\n",
        "def _loss(pred_func_raw, Y_label, lamda, w):\n",
        "    return _cross_entropy(pred_func_raw, Y_label) + lamda * np.sum(np.square(w))\n",
        "\n",
        "def accuracy(Y_pred, Y_label):\n",
        "    acc = np.sum(Y_pred == Y_label)/len(Y_pred)\n",
        "    return acc"
      ],
      "execution_count": 0,
      "outputs": []
    },
    {
      "cell_type": "code",
      "metadata": {
        "id": "tZp8jfKYDrWz",
        "colab_type": "code",
        "colab": {}
      },
      "source": [
        "def train(X_train, Y_train):    \n",
        "#     dev_size=0.1155\n",
        "    dev_size=0.0155\n",
        "    max_iter=300   # number of full set cycle process    \n",
        "    batch_size=10 # number of records to feed into Mini-Batch Gradient Descent\n",
        "#     learning_rate=0.2 # how much the model learn for each step\n",
        "    learning_rate=0.02 # how much the model learn for each step\n",
        "    step=1  \n",
        "\n",
        "    loss_train=[]  #Base on Cross entropy\n",
        "    loss_dev=[]   #Base on Cross entropy\n",
        "    acc_train=[]\n",
        "    acc_dev=[]  \n",
        "    \n",
        "    # Split a test Set\n",
        "    X_train, Y_train, X_dev, Y_dev=train_dev_split(X_train,Y_train,dev_size)\n",
        "    \n",
        "    num_train = len(Y_train)\n",
        "    num_dev = len(Y_dev)\n",
        "    \n",
        "    # Using 0+0*x1+0*x2+...... for weight initialization\n",
        "    w=np.zeros( (X_train.shape[1],))\n",
        "    b=np.zeros((1))\n",
        "    \n",
        "    Regularization=True\n",
        "    if (Regularization==True):\n",
        "        lambda_v=0.001      \n",
        "    else:\n",
        "        lambda_v=0\n",
        "\n",
        "    for epoch in range(max_iter):\n",
        "        # Random shuffle for each epoch\n",
        "        X_train, Y_train=_shuffle(X_train, Y_train)\n",
        "\n",
        "        # Logistic Regression by Mini-Batch Gradient Descent\n",
        "        for i in range(int(np.floor(Y_train.shape[0]/batch_size))):\n",
        "            X=X_train[i*batch_size:(i+1)*batch_size,]\n",
        "            Y=Y_train[i*batch_size:(i+1)*batch_size,]\n",
        "        \n",
        "            # Find out the Gradient\n",
        "            w_grad, b_grad =_gradient_regularization(X, Y, w, b, lambda_v)\n",
        "\n",
        "            # gradient descent update\n",
        "            # learning rate decay with time\n",
        "            w = w - learning_rate/np.sqrt(step) * w_grad\n",
        "            b = b - learning_rate/np.sqrt(step) * b_grad\n",
        "\n",
        "            step = step+1\n",
        "\n",
        "        # Compute the loss and the accuracy of the training set and the validation set       \n",
        "        y_train_pred_func_raw = get_pred_func_raw(X_train, w, b)\n",
        "        Y_train_pred = np.round(y_train_pred_func_raw)\n",
        "        \n",
        "        acc_train.append(accuracy(Y_train_pred, Y_train))\n",
        "        loss_train.append(_loss(y_train_pred_func_raw, Y_train, lambda_v, w)/num_train)\n",
        "        \n",
        "        y_dev_pred_func_raw = get_pred_func_raw(X_dev, w, b)\n",
        "        Y_dev_pred = np.round(y_dev_pred_func_raw)\n",
        "        acc_dev.append(accuracy(Y_dev_pred, Y_dev))\n",
        "        loss_dev.append(_loss(y_dev_pred_func_raw, Y_dev, lambda_v, w)/num_dev)\n",
        "    \n",
        "\n",
        "    \n",
        "    #Write File for detail comparison\n",
        "    # Print Y_train,Y_train_pred,y_train_pred_func_raw     \n",
        "    csv_f = open(general_result_path+\"Y_Train_Detail_Comparison.csv\",\"w\")\n",
        "    csv_w = csv.writer(csv_f)\n",
        "    title = ['Y_train','Y_train_pred','y_train_pred_func_raw']\n",
        "    csv_w.writerow(title) \n",
        "    # 291\n",
        "    for i in range(Y_train.shape[0] ):\n",
        "        content = [Y_train[i],Y_train_pred[i],y_train_pred_func_raw[i]]\n",
        "        csv_w.writerow(content)\n",
        "        \n",
        "        \n",
        "    # Print Y_dev,Y_dev_pred,y_dev_pred_func_raw     \n",
        "    csv_f = open(general_result_path+\"Y_DEV_Detail_Comparison.csv\",\"w\")\n",
        "    csv_w = csv.writer(csv_f)\n",
        "    title = ['Y_dev','Y_dev_pred','y_dev_pred_func_raw']\n",
        "    csv_w.writerow(title) \n",
        "    # 291\n",
        "    for i in range(Y_dev.shape[0] ):\n",
        "        content = [Y_dev[i],Y_dev_pred[i],y_dev_pred_func_raw[i]]\n",
        "        csv_w.writerow(content)\n",
        "    \n",
        "    return w, b, loss_train, loss_dev, acc_train, acc_dev  # return loss for plotting"
      ],
      "execution_count": 0,
      "outputs": []
    },
    {
      "cell_type": "code",
      "metadata": {
        "id": "P6liQvzrEJaq",
        "colab_type": "code",
        "outputId": "fb9cb74e-6843-4510-9b50-08fa2a4bea8b",
        "colab": {
          "base_uri": "https://localhost:8080/",
          "height": 381
        }
      },
      "source": [
        "# Read from Raw Data\n",
        "raw_data=np.genfromtxt((input_x_y_path) ,delimiter=',') \n",
        "X_raw=raw_data[1:,2:8];\n",
        "X_train = np.delete(X_raw, 3, 1)  # delete second column of C\n",
        "Y_train=raw_data[1:,8];\n",
        "\n",
        "# # Fill nan with 0\n",
        "where_nas=np.isnan(X_train)\n",
        "X_train[where_nas]=0\n",
        "\n",
        "# Change numpy array type \n",
        "X_train = X_train.astype('float64') \n",
        "Y_train = Y_train.astype('float64') \n",
        "\n",
        "print (X_raw)\n",
        "print (Y_train)"
      ],
      "execution_count": 0,
      "outputs": [
        {
          "output_type": "stream",
          "text": [
            "[[2.17413e+05 6.40000e+01 1.80000e+01         nan 6.50000e-02         nan]\n",
            " [3.42000e+05 7.00000e+01 1.00000e+01         nan 6.00000e-02         nan]\n",
            " [2.52000e+05 4.60000e+01 1.20000e+01         nan 4.00000e-02         nan]\n",
            " ...\n",
            " [1.90488e+05 4.40000e+01 1.20000e+01         nan 5.50000e-02         nan]\n",
            " [3.71516e+05 5.70000e+01 1.20000e+01         nan 7.00000e-02         nan]\n",
            " [3.13500e+05 7.00000e+01 1.20000e+01         nan 6.75000e-02         nan]]\n",
            "[1. 1. 1. 1. 1. 1. 1. 1. 1. 1. 1. 1. 1. 1. 1. 1. 1. 1. 0. 1. 1. 0. 1. 1.\n",
            " 1. 1. 1. 1. 1. 1. 1. 1. 1. 1. 1. 1. 1. 1. 1. 1. 1. 1. 1. 1. 1. 1. 1. 1.\n",
            " 1. 1. 1. 1. 1. 1. 0. 1. 1. 1. 1. 1. 1. 1. 1. 1. 1. 1. 1. 1. 0. 1. 1. 1.\n",
            " 1. 1. 1. 1. 1. 1. 1. 1. 1. 1. 1. 1. 1. 1. 1. 1. 1. 1. 1. 1. 1. 1. 1. 1.\n",
            " 1. 1. 1. 1. 1. 1. 1. 1. 1. 1. 1. 1. 1. 1. 1. 1. 1. 1. 1. 1. 1. 1. 1. 1.\n",
            " 1. 1. 1. 1. 1. 1. 1. 1. 1. 1. 1. 1. 1. 1. 1. 1. 1. 1. 1. 1. 1. 1. 1. 1.\n",
            " 1. 1. 1. 1. 0. 0. 1. 1. 1. 1. 1. 1. 1. 1. 1. 1. 0. 0. 1. 1. 1. 1. 1. 1.\n",
            " 1. 1. 1. 1. 1. 1. 1. 1. 1. 1. 1. 1. 1. 1. 1. 1. 1. 1. 1. 1. 1. 1. 1. 1.\n",
            " 1. 1. 1. 1. 1. 1. 1. 1. 1. 1. 1. 1. 1. 1. 1. 1. 1. 1. 1. 1. 1. 1. 1. 1.\n",
            " 1. 1. 1. 1. 1. 1. 1. 1. 1. 1. 1. 1. 1. 1. 1. 1. 1. 1. 1. 1. 1. 1. 1. 1.\n",
            " 1. 1. 1. 1. 1. 1. 1. 1. 1. 1. 1. 1. 1. 1. 1. 1. 1. 1. 1. 1. 1. 1. 1. 1.\n",
            " 1. 1. 1. 1. 1. 1. 1. 1. 1. 1. 1. 1. 1. 1. 1. 1. 1. 1. 1. 1. 1. 1. 1. 1.\n",
            " 1. 1. 1. 1. 1. 1. 1. 1. 1. 1. 1. 1. 1. 1. 1. 1. 1. 1. 1. 1. 1. 1. 1. 1.\n",
            " 1.]\n"
          ],
          "name": "stdout"
        }
      ]
    },
    {
      "cell_type": "code",
      "metadata": {
        "id": "lMNr_ucOMqxd",
        "colab_type": "code",
        "colab": {}
      },
      "source": [
        "# These are the columns that I want to normalize\n",
        "col = [0,1,2,3,4]\n",
        "\n",
        "# X_train, Y_train=_shuffle(X_train, Y_train)\n",
        "X_train, X_mean, X_std = _normalize_column_normal(X_train, specified_column=col)\n",
        "\n",
        "# return loss is to plot the result\n",
        "w, b, loss_train, loss_validation, acc_train, acc_test= train(X_train, Y_train)"
      ],
      "execution_count": 0,
      "outputs": []
    },
    {
      "cell_type": "code",
      "metadata": {
        "id": "a5ikBAP4OHBk",
        "colab_type": "code",
        "outputId": "50429605-bf88-4773-a81a-dc2a0ef2c88d",
        "colab": {
          "base_uri": "https://localhost:8080/",
          "height": 617
        }
      },
      "source": [
        "import matplotlib.pyplot as plt\n",
        "%matplotlib inline\n",
        "\n",
        "print ('\\n Loss_train {0} \\n'.format(loss_train[-1]) )\n",
        "print ('\\n Loss_validation {0} \\n'.format(loss_validation[-1]) )\n",
        "\n",
        "plt.plot(loss_train)\n",
        "plt.plot(loss_validation)\n",
        "plt.legend(['train', 'test'])\n",
        "plt.show()\n",
        "\n",
        "plt.plot(acc_train)\n",
        "plt.plot(acc_test)\n",
        "plt.legend(['train', 'test'])\n",
        "plt.show()"
      ],
      "execution_count": 0,
      "outputs": [
        {
          "output_type": "stream",
          "text": [
            "\n",
            " Loss_train 0.11113970449551633 \n",
            "\n",
            "\n",
            " Loss_validation 0.04276562629439636 \n",
            "\n"
          ],
          "name": "stdout"
        },
        {
          "output_type": "display_data",
          "data": {
            "image/png": "[encoded data removed]",
            "text/plain": [
              "<Figure size 432x288 with 1 Axes>"
            ]
          },
          "metadata": {
            "tags": []
          }
        },
        {
          "output_type": "display_data",
          "data": {
            "image/png": "[encoded data removed]",
            "text/plain": [
              "<Figure size 432x288 with 1 Axes>"
            ]
          },
          "metadata": {
            "tags": []
          }
        }
      ]
    },
    {
      "cell_type": "code",
      "metadata": {
        "id": "NwPqjsyqOtrf",
        "colab_type": "code",
        "outputId": "5ff396ce-6e1b-468a-eacf-f0f3c105bdcf",
        "colab": {
          "base_uri": "https://localhost:8080/",
          "height": 104
        }
      },
      "source": [
        "# print (np.argsort(np.abs(w), axis=0) ) #按列排序\n",
        "\n",
        "ind = np.argsort(np.abs(w))[::-1]\n",
        "# with open(\"../input/Result_20190919_160221.csv\") as f:\n",
        "#     content = f.readline().rstrip('\\n')\n",
        "features = np.array(['LoanAmount','LTV','OriginalTerm','TrancheARate','TrancheBRate'])\n",
        "for i in ind[0:10]:\n",
        "    \n",
        "    print(i,features[i], w[i])"
      ],
      "execution_count": 0,
      "outputs": [
        {
          "output_type": "stream",
          "text": [
            "4 TrancheBRate -0.02985995612884101\n",
            "2 OriginalTerm 0.020588606464808732\n",
            "1 LTV 0.011220677889129796\n",
            "3 TrancheARate -0.005061428872226548\n",
            "0 LoanAmount 0.0022814510683530362\n"
          ],
          "name": "stdout"
        }
      ]
    },
    {
      "cell_type": "code",
      "metadata": {
        "id": "Vqt6xuMiPGPQ",
        "colab_type": "code",
        "outputId": "501ba326-56df-4116-9030-a4e5f67db74f",
        "colab": {
          "base_uri": "https://localhost:8080/",
          "height": 87
        }
      },
      "source": [
        " # Read from Raw Test Data\n",
        "# Just for LoanID output\n",
        "X_test_LoanID=np.genfromtxt((predict_x_test_path) ,delimiter=',',dtype=\"U75\") \n",
        "    \n",
        "X_test_data=np.genfromtxt((predict_x_test_path) ,delimiter=',') \n",
        "X_test_raw=X_test_data[1:,2:8];\n",
        "X_test = np.delete(X_test_raw, 3, 1)  # delete second column of C\n",
        "\n",
        "\n",
        "# # Fill nan with 0\n",
        "where_nas=np.isnan(X_test)\n",
        "X_test[where_nas]=0\n",
        "\n",
        "# Change numpy array type \n",
        "X_test = X_test.astype('float64') \n",
        "print (X_test)\n",
        "\n",
        "\n",
        "# Doing the same normalization as X_train\n",
        "X_test, _, _= _normalize_column_normal(X_test, train=False, specified_column = col, X_mean=X_mean, X_std=X_std)\n",
        "\n",
        "result_label =infer (X_test,w,b)\n",
        "result_raw =get_pred_func_raw (X_test,w,b)\n",
        "\n",
        "# Print Y_dev,Y_dev_pred,y_dev_pred_func_raw     \n",
        "csv_f = open(predict_result_X_test_path,\"w\")\n",
        "csv_w = csv.writer(csv_f)\n",
        "title = ['LoanID','Result_label','Result_raw']\n",
        "csv_w.writerow(title) \n",
        "for i in range(X_test.shape[0] ):\n",
        "    content = [X_test_LoanID[i+1,1],result_label[i],result_raw[i]]\n",
        "    csv_w.writerow(content)"
      ],
      "execution_count": 0,
      "outputs": [
        {
          "output_type": "stream",
          "text": [
            "[[7.0000e+06 7.0000e+01 1.8000e+01 7.0000e-02 0.0000e+00]\n",
            " [4.1250e+05 7.4320e+01 1.2000e+01 5.2500e-02 0.0000e+00]\n",
            " [1.5375e+05 7.5000e+01 1.2000e+01 5.2500e-02 0.0000e+00]\n",
            " [1.8715e+05 3.4020e+01 9.5000e+00 4.0000e-02 0.0000e+00]]\n"
          ],
          "name": "stdout"
        }
      ]
    },
    {
      "cell_type": "markdown",
      "metadata": {
        "id": "UIZnPtRBPH6k",
        "colab_type": "text"
      },
      "source": [
        ""
      ]
    },
    {
      "cell_type": "markdown",
      "metadata": {
        "id": "7S8Hrb46PIIv",
        "colab_type": "text"
      },
      "source": [
        ""
      ]
    },
    {
      "cell_type": "markdown",
      "metadata": {
        "id": "Q960gpkRPIXQ",
        "colab_type": "text"
      },
      "source": [
        ""
      ]
    },
    {
      "cell_type": "code",
      "metadata": {
        "id": "J5NUoFgBGnrP",
        "colab_type": "code",
        "outputId": "362b5e54-f338-4462-91c7-5bc60996151c",
        "colab": {
          "base_uri": "https://localhost:8080/",
          "height": 104
        }
      },
      "source": [
        "file_id = \"1Llp483f91dAJriuE6PanmecLA9sWDPyi\" # replace with your ID\n",
        "!gdown https://drive.google.com/uc?id={file_id}\n",
        "\n",
        "!ls"
      ],
      "execution_count": 0,
      "outputs": [
        {
          "output_type": "stream",
          "text": [
            "Downloading...\n",
            "From: https://drive.google.com/uc?id=1Llp483f91dAJriuE6PanmecLA9sWDPyi\n",
            "To: /content/iris.csv\n",
            "\r  0% 0.00/2.41k [00:00<?, ?B/s]\r100% 2.41k/2.41k [00:00<00:00, 3.56MB/s]\n",
            "gdrive\tiris.csv  sample_data\n"
          ],
          "name": "stdout"
        }
      ]
    },
    {
      "cell_type": "code",
      "metadata": {
        "id": "UuO_N2gSOswE",
        "colab_type": "code",
        "colab": {}
      },
      "source": [
        ""
      ],
      "execution_count": 0,
      "outputs": []
    },
    {
      "cell_type": "code",
      "metadata": {
        "id": "1jWxxrDgLqPN",
        "colab_type": "code",
        "outputId": "8f36d6bd-f473-4c20-f1ea-182342913352",
        "colab": {
          "base_uri": "https://localhost:8080/",
          "height": 35
        }
      },
      "source": [
        "!ls /content/gdrive/My\\ Drive/Colab\\ Notebooks\n",
        "\n",
        "# /content/gdrive/My Drive/Colab Notebooks/Result/\"+\"predict_result_X_test.csv\"\n",
        "\n"
      ],
      "execution_count": 0,
      "outputs": [
        {
          "output_type": "stream",
          "text": [
            "LendInvest\n"
          ],
          "name": "stdout"
        }
      ]
    }
  ]
}